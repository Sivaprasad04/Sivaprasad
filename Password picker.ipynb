{
 "cells": [
  {
   "cell_type": "code",
   "execution_count": 11,
   "id": "e5160acd",
   "metadata": {},
   "outputs": [],
   "source": [
    "import random"
   ]
  },
  {
   "cell_type": "code",
   "execution_count": 20,
   "id": "cf4ca667",
   "metadata": {},
   "outputs": [
    {
     "name": "stdout",
     "output_type": "stream",
     "text": [
      "luckykakashi69@\n"
     ]
    }
   ],
   "source": [
    "adjective_list=['abrupt','acidic','adorable','dizzy','excited','funny','graceful','handsome','dangerous','deadly','poisonous','lucky','happy', 'sad']\n",
    "noun_list=['dog','cat','doctor','hero','villain','friend','itachi','naruto','tanjiro','madara','obito','kakashi','rocklee','erenyager']\n",
    "numbers_list=['0','1','2','69','420','5','6','7','9']\n",
    "sym_list=\"!@#$%^&*_?:;\"\n",
    "pass_create=random.choice(adjective_list)+random.choice(noun_list)+random.choice(numbers_list)+random.choice(sym_list)\n",
    "print(pass_create)"
   ]
  },
  {
   "cell_type": "code",
   "execution_count": null,
   "id": "a4998d9d",
   "metadata": {},
   "outputs": [],
   "source": []
  },
  {
   "cell_type": "code",
   "execution_count": null,
   "id": "34ce3ba1",
   "metadata": {},
   "outputs": [],
   "source": []
  }
 ],
 "metadata": {
  "kernelspec": {
   "display_name": "Python 3",
   "language": "python",
   "name": "python3"
  },
  "language_info": {
   "codemirror_mode": {
    "name": "ipython",
    "version": 3
   },
   "file_extension": ".py",
   "mimetype": "text/x-python",
   "name": "python",
   "nbconvert_exporter": "python",
   "pygments_lexer": "ipython3",
   "version": "3.8.8"
  }
 },
 "nbformat": 4,
 "nbformat_minor": 5
}
